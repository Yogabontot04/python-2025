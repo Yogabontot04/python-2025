{
 "cells": [
  {
   "cell_type": "code",
   "execution_count": 1,
   "id": "3037a98b-358e-48da-ba0b-d1e9976c208d",
   "metadata": {},
   "outputs": [
    {
     "name": "stdout",
     "output_type": "stream",
     "text": [
      "Halo Takumi\n",
      "Halo Takumi\n"
     ]
    }
   ],
   "source": [
    "# type string\n",
    "print ('Halo Takumi') #Membuat string dengan tanda petik tunggal\n",
    "print (\"Halo Takumi\") #Membuat string dengan tanda petik tunggal"
   ]
  },
  {
   "cell_type": "code",
   "execution_count": 2,
   "id": "787a77e5-1e13-46e0-8f06-88e520850d44",
   "metadata": {},
   "outputs": [
    {
     "name": "stdout",
     "output_type": "stream",
     "text": [
      "Halo\n",
      "Takumi\n",
      "Halo Takumi\n"
     ]
    }
   ],
   "source": [
    "# Variabel type String\n",
    "s1 = 'Halo' #Variabel string 1\n",
    "s2 = 'Takumi' #Variabel string 2\n",
    "\n",
    "# menampilkan type string\n",
    "print (s1)\n",
    "print(s2)\n",
    "print (s1+' '+s2)"
   ]
  },
  {
   "cell_type": "code",
   "execution_count": 3,
   "id": "bc47818d-2534-4c78-86be-0a4f95e74a23",
   "metadata": {},
   "outputs": [
    {
     "name": "stdout",
     "output_type": "stream",
     "text": [
      "False\n",
      "False\n",
      "True\n",
      "True\n",
      "True\n"
     ]
    }
   ],
   "source": [
    "# Membandingkan string\n",
    "s1 = 'Halo' #Variabel string 1\n",
    "s2 = 'Takumi' #variabel string 2\n",
    "\n",
    "print(s1 > s2)\n",
    "print(s1 >= s2)\n",
    "print(s1 < s2)\n",
    "print(s1 <= s2)\n",
    "print(s1 != s2)"
   ]
  },
  {
   "cell_type": "code",
   "execution_count": 4,
   "id": "3b876e46-37c8-4a1d-912b-e1d3b3e30df7",
   "metadata": {},
   "outputs": [
    {
     "name": "stdout",
     "output_type": "stream",
     "text": [
      "T\n",
      "k\n",
      "Ta\n",
      "Taku\n",
      "umi\n",
      "mi\n",
      "Tak\n",
      "Takumi oke\n",
      "TakumiTakumi\n"
     ]
    }
   ],
   "source": [
    "# Mengambil substring; menggunakan tanda bracket []\n",
    "s = 'Takumi'\n",
    "print(s[0]) #menampilkan sub string karakter pertama\n",
    "print(s[-4]) #menalpilkan sub string karakter ke 4 dari kanan\n",
    "print(s[:2]) #menampilkan dua karakter di awal\n",
    "print(s[:-2]) #menampilkan dua karakter terakhir\n",
    "print(s[3:]) #menampilkan tiga karakter terakhir\n",
    "print(s[-2:]) #menampilkan dua karakter terakhir\n",
    "print(s[0:3]) #menampilkan karakter 0\n",
    "len(s) #Menunjukan jumlah karakter\n",
    "print(s +' '+'oke') #penggabungan\n",
    "print(s*2) #pengulangan"
   ]
  },
  {
   "cell_type": "code",
   "execution_count": 5,
   "id": "4f53b117-2d9b-44bd-a540-1037a576322e",
   "metadata": {},
   "outputs": [
    {
     "data": {
      "text/plain": [
       "1"
      ]
     },
     "execution_count": 5,
     "metadata": {},
     "output_type": "execute_result"
    }
   ],
   "source": [
    "# Menumakan offset substring\n",
    "s = 'Takumi'\n",
    "s.find('aku')"
   ]
  },
  {
   "cell_type": "code",
   "execution_count": 6,
   "id": "dc53a1d1-b6d6-4617-b45d-08a71a3ce2f4",
   "metadata": {},
   "outputs": [
    {
     "data": {
      "text/plain": [
       "'TAKUmi'"
      ]
     },
     "execution_count": 6,
     "metadata": {},
     "output_type": "execute_result"
    }
   ],
   "source": [
    "# Mengganti kemunculan suatu substring dengan substring lainnya\n",
    "s = 'Takumi'\n",
    "s.replace('aku', 'AKU')"
   ]
  },
  {
   "cell_type": "code",
   "execution_count": 7,
   "id": "43655804-7f56-40d4-821b-747d6f17d7c1",
   "metadata": {},
   "outputs": [
    {
     "data": {
      "text/plain": [
       "'TAKUMI'"
      ]
     },
     "execution_count": 7,
     "metadata": {},
     "output_type": "execute_result"
    }
   ],
   "source": [
    "# Mengkonversikan huruf besar dan kecil\n",
    "s = 'Takumi'\n",
    "s.upper()"
   ]
  },
  {
   "cell_type": "code",
   "execution_count": null,
   "id": "0cca7394-4519-4f76-a722-18d471848779",
   "metadata": {},
   "outputs": [],
   "source": []
  }
 ],
 "metadata": {
  "kernelspec": {
   "display_name": "Python 3 (ipykernel)",
   "language": "python",
   "name": "python3"
  },
  "language_info": {
   "codemirror_mode": {
    "name": "ipython",
    "version": 3
   },
   "file_extension": ".py",
   "mimetype": "text/x-python",
   "name": "python",
   "nbconvert_exporter": "python",
   "pygments_lexer": "ipython3",
   "version": "3.13.5"
  }
 },
 "nbformat": 4,
 "nbformat_minor": 5
}

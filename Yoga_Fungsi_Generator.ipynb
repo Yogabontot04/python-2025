{
 "cells": [
  {
   "cell_type": "code",
   "execution_count": 2,
   "id": "1cea8d7c-236f-4a36-9eed-6317631d79f9",
   "metadata": {},
   "outputs": [
    {
     "name": "stdout",
     "output_type": "stream",
     "text": [
      "1\n",
      "2\n",
      "3\n"
     ]
    }
   ],
   "source": [
    "def sisabagi (a, b):\n",
    "    hasil = a % b\n",
    "    return hasil\n",
    "\n",
    "h1 = sisabagi (10, 3)\n",
    "h2 = sisabagi (14, 4)\n",
    "h3 = sisabagi (17, 7)\n",
    "\n",
    "print(h1)\n",
    "print(h2)\n",
    "print(h3)"
   ]
  },
  {
   "cell_type": "code",
   "execution_count": 4,
   "id": "a9e4f790-7546-43c3-a610-ed57c27e3044",
   "metadata": {},
   "outputs": [
    {
     "name": "stdout",
     "output_type": "stream",
     "text": [
      "PemrogramanPython\n",
      "Pemrograman\n",
      "Python\n"
     ]
    }
   ],
   "source": [
    "def write(s, newline=True):\n",
    "    print(s, end='')\n",
    "    if newline:print()\n",
    "\n",
    "write('Pemrograman', False); write(\"Python\")\n",
    "write('Pemrograman'); write(\"Python\")"
   ]
  },
  {
   "cell_type": "code",
   "execution_count": 7,
   "id": "11301acb-8211-435c-b946-d0342a9ee0ed",
   "metadata": {},
   "outputs": [
    {
     "name": "stdout",
     "output_type": "stream",
     "text": [
      "0\n",
      "1\n",
      "2\n"
     ]
    }
   ],
   "source": [
    "# Contoh variabel global\n",
    "count = 0\n",
    "\n",
    "# Fungsi yang mengakses variabel global\n",
    "def increment():\n",
    "    global count\n",
    "    count +=1 # mengubah nilai variabel global\n",
    "\n",
    "#menampilkan nilai awal variabel global\n",
    "print(count)\n",
    "\n",
    "#memanggil fungsi increment()\n",
    "increment()\n",
    "\n",
    "#menampilkan nilai count\n",
    "#setelah pemanggilan fungsi increment()\n",
    "print(count)\n",
    "increment()\n",
    "print(count)"
   ]
  },
  {
   "cell_type": "code",
   "execution_count": 8,
   "id": "189dd25f-e05b-4608-a7f4-87e9ae91a016",
   "metadata": {},
   "outputs": [
    {
     "name": "stdout",
     "output_type": "stream",
     "text": [
      "2025-10-07\n",
      "\n",
      "Hari\t:7\n",
      "\n",
      "Bulan\t:10\n",
      "\n",
      "Tahun\t:2025\n"
     ]
    }
   ],
   "source": [
    "import datetime as dt\n",
    "\n",
    "def getisoformat(date):\n",
    "    return dt.date.isoformat(date)\n",
    "\n",
    "def day(date):\n",
    "    datestr = getisoformat(date)\n",
    "    return int(datestr[8:])\n",
    "\n",
    "def month(date):\n",
    "    datestr = getisoformat(date)\n",
    "    return int(datestr[5:7])\n",
    "\n",
    "def year(date):\n",
    "    datestr = getisoformat(date)\n",
    "    return int(datestr[:4])\n",
    "\n",
    "def main():\n",
    "    today = dt.date.today()\n",
    "    print(getisoformat(today))\n",
    "    print(\"\\nHari\\t:%d\" % day(today))\n",
    "    print(\"\\nBulan\\t:%d\" % month(today))\n",
    "    print(\"\\nTahun\\t:%d\" % year(today))\n",
    "\n",
    "if __name__ == \"__main__\":\n",
    "    main()"
   ]
  },
  {
   "cell_type": "code",
   "execution_count": 9,
   "id": "798441a9-28cc-4556-a9d6-4aeda233c93e",
   "metadata": {},
   "outputs": [
    {
     "name": "stdout",
     "output_type": "stream",
     "text": [
      "0\n",
      "1\n",
      "2\n"
     ]
    }
   ],
   "source": [
    "def generator(n):\n",
    "    MAX = 2147483647\n",
    "    while n < MAX:\n",
    "        yield n\n",
    "        n += 1\n",
    "\n",
    "g = generator(0)\n",
    "print(g.__next__())\n",
    "print(g.__next__())\n",
    "print(g.__next__())"
   ]
  },
  {
   "cell_type": "code",
   "execution_count": null,
   "id": "d8ae527e-f80f-48fa-bb19-297bdcb6921f",
   "metadata": {},
   "outputs": [],
   "source": []
  }
 ],
 "metadata": {
  "kernelspec": {
   "display_name": "Python 3 (ipykernel)",
   "language": "python",
   "name": "python3"
  },
  "language_info": {
   "codemirror_mode": {
    "name": "ipython",
    "version": 3
   },
   "file_extension": ".py",
   "mimetype": "text/x-python",
   "name": "python",
   "nbconvert_exporter": "python",
   "pygments_lexer": "ipython3",
   "version": "3.13.5"
  }
 },
 "nbformat": 4,
 "nbformat_minor": 5
}

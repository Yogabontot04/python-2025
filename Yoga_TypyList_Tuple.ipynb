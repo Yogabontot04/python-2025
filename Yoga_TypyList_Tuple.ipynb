{
 "cells": [
  {
   "cell_type": "code",
   "execution_count": 1,
   "id": "bc268433-9bd1-42da-aee8-90add383f585",
   "metadata": {},
   "outputs": [
    {
     "name": "stdout",
     "output_type": "stream",
     "text": [
      "dic['Dosen']: Eko\n",
      "dic['Prodi']: Mekatronika\n",
      "dic['Kuliah']: Python\n"
     ]
    }
   ],
   "source": [
    "# Dalam python, Dictionary disebut juga \"mapping\". Identik dengan array asosiatif\n",
    "#Indeks type string\n",
    "#type data : 1) key; 2) value\n",
    "#Bentuk umum : variabel = {key1:value1, key2:valve2}\n",
    "\n",
    "#Contoh\n",
    "dic ={'Dosen':'Eko', 'Prodi':'Mekatronika','Kuliah':'Python'} #buat variabel\n",
    "\n",
    "#Menampilkan dictionary:\n",
    "print(\"dic['Dosen']:\", dic['Dosen'])\n",
    "print(\"dic['Prodi']:\", dic['Prodi'])\n",
    "print(\"dic['Kuliah']:\", dic['Kuliah'])"
   ]
  },
  {
   "cell_type": "code",
   "execution_count": 2,
   "id": "94dead8f-a95a-4c02-9bda-81da5fb8dfdd",
   "metadata": {},
   "outputs": [
    {
     "name": "stdout",
     "output_type": "stream",
     "text": [
      "Dosen: Eko\n",
      "Prodi: Mekatronika\n",
      "Kuliah: Python\n"
     ]
    }
   ],
   "source": [
    "dic ={'Dosen':'Eko', 'Prodi':'Mekatronika','Kuliah':'Python'} #buat variabel\n",
    "#Menampilkan dictionary:\n",
    "print(\"Dosen:\", dic['Dosen'])\n",
    "print(\"Prodi:\", dic['Prodi'])\n",
    "print(\"Kuliah:\", dic['Kuliah'])"
   ]
  },
  {
   "cell_type": "code",
   "execution_count": 3,
   "id": "35f59908-7d48-48da-8565-7d97a4649bd6",
   "metadata": {},
   "outputs": [
    {
     "name": "stdout",
     "output_type": "stream",
     "text": [
      "satu: 5\n",
      "dua: 10\n"
     ]
    }
   ],
   "source": [
    "#Variabel Dectionary\n",
    "dic ={'satu':5, 'dua':10}\n",
    "\n",
    "#Menampilkan dectionary\n",
    "print(\"satu:\", dic['satu'])\n",
    "print(\"dua:\", dic['dua'])"
   ]
  },
  {
   "cell_type": "code",
   "execution_count": 4,
   "id": "4cc4f73a-68fc-4cbc-abfe-4f1cd8786fd5",
   "metadata": {},
   "outputs": [
    {
     "name": "stdout",
     "output_type": "stream",
     "text": [
      "dic['satu']*dic['dua']: 50\n"
     ]
    }
   ],
   "source": [
    "#Variabel Dectionary\n",
    "dic ={'satu':5, 'dua':10}\n",
    "print(\"dic['satu']*dic['dua']:\", (dic['satu']*dic['dua']))"
   ]
  },
  {
   "cell_type": "code",
   "execution_count": 5,
   "id": "8ffb0626-81a2-497e-9399-cc3a8a2789e0",
   "metadata": {},
   "outputs": [
    {
     "name": "stdout",
     "output_type": "stream",
     "text": [
      "satu: 5\n",
      "dua: 10\n",
      "satu * dua: 50\n",
      "satu + dua: 15\n",
      "dua / satu: 2.0\n"
     ]
    }
   ],
   "source": [
    "#Variabel Dectionary\n",
    "dic ={'satu':5, 'dua':10}\n",
    "\n",
    "#operasi matematis dictionary\n",
    "print(\"satu:\", dic['satu'])\n",
    "print(\"dua:\", dic['dua'])\n",
    "print(\"satu * dua:\", (dic['satu'] * dic['dua']))\n",
    "print(\"satu + dua:\", (dic['satu'] + dic['dua']))\n",
    "print(\"dua / satu:\", (dic['dua'] / dic['satu']))"
   ]
  },
  {
   "cell_type": "code",
   "execution_count": 6,
   "id": "5dca0430-66dc-43f7-a6a7-58002ab779ac",
   "metadata": {},
   "outputs": [
    {
     "name": "stdout",
     "output_type": "stream",
     "text": [
      "{'satu': 5, 'dua': 10, 'tiga': 15}\n"
     ]
    }
   ],
   "source": [
    "#Menambahkan elemen ke dalam dictionary\n",
    "dic ={'satu':5, 'dua':10} #sebelum ditambah\n",
    "dic['tiga'] = 15 #menampilkan elemen key 'tiga' dan valve '15'\n",
    "print(dic) #menampikal hasil penambahan elemen"
   ]
  },
  {
   "cell_type": "code",
   "execution_count": 7,
   "id": "a64a1db0-7d4a-42c2-b992-9f6078aa97a1",
   "metadata": {},
   "outputs": [
    {
     "name": "stdout",
     "output_type": "stream",
     "text": [
      "{'satu': 5, 'dua': 20, 'tiga': 15}\n"
     ]
    }
   ],
   "source": [
    "#Mengubah elemen dalam dictionary\n",
    "dic ={'satu':5, 'dua':10, 'tiga': 15} #sebelum diubah\n",
    "dic['dua'] = 20 #mengubah valve '10' menjadi '20'\n",
    "print(dic)"
   ]
  },
  {
   "cell_type": "code",
   "execution_count": 8,
   "id": "95d3ddc7-9a4d-4b21-8b9b-f817ef623a82",
   "metadata": {},
   "outputs": [
    {
     "name": "stdout",
     "output_type": "stream",
     "text": [
      "{'satu': 5, 'tiga': 15}\n"
     ]
    }
   ],
   "source": [
    "#Menghapus elemen dari dectionary\n",
    "dic ={'satu':5, 'dua':10, 'tiga': 15} #sebelum dihaous\n",
    "del dic['dua']\n",
    "print(dic)"
   ]
  },
  {
   "cell_type": "code",
   "execution_count": 9,
   "id": "4412b6c5-4af8-4263-90e1-d898b4b252f7",
   "metadata": {},
   "outputs": [
    {
     "name": "stdout",
     "output_type": "stream",
     "text": [
      "{'a': 1, 'b': 2, 'c': 3}\n",
      "['a', 'b', 'c']\n",
      "['a', 'b', 'c']\n",
      "a = 1\n",
      "b = 2\n",
      "c = 3\n"
     ]
    }
   ],
   "source": [
    "#Sortir Dictionary\n",
    "D = {'a':1, 'b':2, 'c':3}\n",
    "print(D)\n",
    "Ks = list(D.keys())\n",
    "print(Ks)\n",
    "Ks.sort()\n",
    "print(Ks)\n",
    "\n",
    "for key in Ks:\n",
    "    print(key,'=', D[key])"
   ]
  },
  {
   "cell_type": "code",
   "execution_count": 11,
   "id": "68c566fc-9ac6-4869-a565-4de540a092af",
   "metadata": {},
   "outputs": [
    {
     "name": "stdout",
     "output_type": "stream",
     "text": [
      "print list\n",
      "10\n",
      "30\n",
      "50\n",
      "50\n",
      "40\n",
      "10\n",
      "Banyaknya elemen\n",
      "5\n"
     ]
    }
   ],
   "source": [
    "# Dalam python mirip dengan array normal\n",
    "# Dalam list, elemen tidak diindeks berdasarkan kunci (key) tertentu\n",
    "# Indeks bilangan selalu diawali dari nilai nol (0)\n",
    "# Indeks negatif ditentukan dari arah kanan, dandimulai dari -1\n",
    "# Bentuk umum: nama_list = [nilai1, nilai2, nilai3,...]\n",
    "#contoh\n",
    "list = [10, 20, 30, 40, 50]\n",
    "\n",
    "# Index elemen di dalam list berdasarkan posisi\n",
    "print('print list')\n",
    "print(list[0]) #bernilai 10\n",
    "print(list[2]) #bernilai 30\n",
    "print(list[4]) #bernilai 50\n",
    "print(list[-1]) #bernilai 50\n",
    "print(list[-2]) #bernilai 40\n",
    "print(list[-5]) #bernilai 10\n",
    "print('Banyaknya elemen')\n",
    "print(len(list))"
   ]
  },
  {
   "cell_type": "code",
   "execution_count": 13,
   "id": "d2bed24f-8c80-4387-9d0b-b6e3e7b09894",
   "metadata": {},
   "outputs": [
    {
     "name": "stdout",
     "output_type": "stream",
     "text": [
      "sebelum dipotong:\n",
      "[10, 20, 30, 40, 50]\n",
      "setelah dipotong:\n",
      "[10, 20, 30, 40]\n",
      "[10]\n",
      "[50]\n",
      "[40, 50]\n"
     ]
    }
   ],
   "source": [
    "#Contoh\n",
    "list = [10, 20, 30, 40, 50]\n",
    "\n",
    "# Slicing (memotong) elemen di dalam list\n",
    "print('sebelum dipotong:')\n",
    "print(list)\n",
    "print('setelah dipotong:')\n",
    "print(list[:-1]) # memotong elemen pertama dari kanan\n",
    "print(list[:1]) # memotong elemen\n",
    "print(list[-1:]) # memotong elemen dari kan kecuali elemen -1\n",
    "print(list[-2:])\n",
    "# Tugas berikan penjelas pada slicing"
   ]
  },
  {
   "cell_type": "code",
   "execution_count": 14,
   "id": "e57b0554-cd6d-4869-96fe-bbb45d91e636",
   "metadata": {},
   "outputs": [
    {
     "name": "stdout",
     "output_type": "stream",
     "text": [
      "sebelum digabung:\n",
      "[10, 20, 30, 40, 50]\n",
      "setelah digabung:\n",
      "[10, 20, 30, 40, 50, 600, 700, 800]\n"
     ]
    }
   ],
   "source": [
    "#Contoh\n",
    "list = [10, 20, 30, 40, 50]\n",
    "\n",
    "# Penggabungkan elemen list dan membuat daftar list baru\n",
    "print('sebelum digabung:')\n",
    "print(list)\n",
    "print('setelah digabung:')\n",
    "print(list + [600, 700, 800]) "
   ]
  },
  {
   "cell_type": "code",
   "execution_count": 15,
   "id": "d10402e7-ab1d-450f-8810-024ddd693ac6",
   "metadata": {},
   "outputs": [
    {
     "name": "stdout",
     "output_type": "stream",
     "text": [
      "5\n",
      "30\n",
      "30\n"
     ]
    }
   ],
   "source": [
    "#pengambilan elemen list menggunakan indeks negatif dapat  ditentukan dengan formula  \n",
    "#list[-n] = list [len(list) -n]\n",
    "#contoh\n",
    "list = [10, 20, 30, 40, 50]\n",
    "print(len(list)) #berfungsi untuk mengambil jumlah atau banyaknya elemen dalam list\n",
    "\n",
    "#jika n=-3\n",
    "list [-3]=list[len(list)-3] #=list[2]\n",
    "print(list[-3])\n",
    "print(list[2]) \n",
    "#berarti list[-3]=list[2]"
   ]
  },
  {
   "cell_type": "code",
   "execution_count": 16,
   "id": "04e379bb-94a3-447f-96ee-16eadf0a3b27",
   "metadata": {},
   "outputs": [
    {
     "name": "stdout",
     "output_type": "stream",
     "text": [
      "[1, 'Jeruk', 2, 'Rambutan', 3, 'Durian']\n",
      "1\n",
      "Jeruk\n",
      "2\n",
      "Rambutan\n",
      "3\n",
      "Durian\n"
     ]
    }
   ],
   "source": [
    "#dalam python, bernilai elemen didalam list bisa berasal dari tipe data yang berbeda\n",
    "#contoh\n",
    "list = [1, 'Jeruk',2, 'Rambutan', 3, 'Durian']\n",
    "\n",
    "#menampilkan elemen dalam list\n",
    "print(list)\n",
    "\n",
    "#index elemen list\n",
    "print(list[0])\n",
    "print(list[1])\n",
    "print(list[2])\n",
    "print(list[3])\n",
    "print(list[4])\n",
    "print(list[5])"
   ]
  },
  {
   "cell_type": "code",
   "execution_count": 17,
   "id": "5a464b9c-f966-40e6-ae79-ef4c303bc453",
   "metadata": {},
   "outputs": [
    {
     "name": "stdout",
     "output_type": "stream",
     "text": [
      "Jl.Raya Kodam\n",
      "Cikarang Selatan\n",
      "17530\n"
     ]
    }
   ],
   "source": [
    "#Nilai elemen dalam list juga berupa list lain\n",
    "#konsep sama dengan array multidimensional\n",
    "\n",
    "#contoh\n",
    "list = [1, 'Takumi', ['Jl.Raya Kodam', 'Cikarang Selatan', 17530], '08111374497']\n",
    "print(list[2][0])\n",
    "print(list[2][1])\n",
    "print(list[2][2])"
   ]
  },
  {
   "cell_type": "code",
   "execution_count": 18,
   "id": "567feaa9-f08e-4b04-b730-63655e5c3d65",
   "metadata": {},
   "outputs": [
    {
     "name": "stdout",
     "output_type": "stream",
     "text": [
      "Matriks 3x3\n",
      "[[1, 2, 3], [4, 5, 6], [7, 8, 9]]\n",
      "Mengambil baris ke-2:\n",
      "[4, 5, 6]\n",
      "Mengambil baris ke-2,lalu dapatkan item ke-3 didalam baris\n",
      "6\n",
      "2\n",
      "4\n",
      "8\n",
      "(2, 4, 8)\n"
     ]
    }
   ],
   "source": [
    "#contoh array multidimensional (nesting) dalam bentuk matriks\n",
    "M = [[1, 2, 3],\n",
    "     [4, 5, 6],\n",
    "     [7, 8, 9]]\n",
    "\n",
    "print('Matriks 3x3')\n",
    "print(M) #Menampilkan matriks 3x3\n",
    "\n",
    "print ('Mengambil baris ke-2:')\n",
    "print(M[1])#menampilkan baris kedua\n",
    "\n",
    "print('Mengambil baris ke-2,lalu dapatkan item ke-3 didalam baris')\n",
    "print(M[1][2])\n",
    "print(M[0][1])\n",
    "print(M[1][0])\n",
    "print(M[2][1])\n",
    "Matrix =((M[0][1]),(M[1][0]), (M[2][1]))\n",
    "print(Matrix)"
   ]
  },
  {
   "cell_type": "code",
   "execution_count": 19,
   "id": "568113b7-d5d0-4c4b-b899-3df1851462e1",
   "metadata": {},
   "outputs": [
    {
     "name": "stdout",
     "output_type": "stream",
     "text": [
      "Matriks 3x3\n",
      "[[1, 2, 3], [4, 5, 6], [7, 8, 9]]\n",
      "Hasil penambahan 1 untuik setiap item di kolom 2\n",
      "[3, 6, 9]\n",
      "Matriks 3x3 sebelum penyaringan data:\n",
      "[[1, 2, 3], [4, 5, 6], [7, 8, 9]]\n",
      "data matriks yang telah disaring pada kolo ke-2\n",
      "[2, 8]\n",
      "Data matriks yang telah ddisaring pada kolom ke-1\n",
      "[1, 7]\n",
      "Matriks 3x3:\n",
      "[[1, 2, 3], [4, 5, 6], [7, 8, 9]]\n",
      "bentuk diagonal matriks\n",
      "[1, 5, 9]\n"
     ]
    }
   ],
   "source": [
    "#list comprehension expression\n",
    "#membuat matriks\n",
    "M = [[1, 2, 3],\n",
    "     [4, 5, 6],\n",
    "     [7, 8, 9]]\n",
    "\n",
    "print('Matriks 3x3')\n",
    "print(M)\n",
    "\n",
    "#tambahkan 1 untuk setiap item didalam kolom 2\n",
    "M1= [row[1]+1 for row in M]\n",
    "print('Hasil penambahan 1 untuik setiap item di kolom 2')\n",
    "print(M1)\n",
    "\n",
    "#menyaring item data pada matriks\n",
    "print('Matriks 3x3 sebelum penyaringan data:')\n",
    "print(M)\n",
    "M2=[row[1]for row in M if row[1]%2==0]\n",
    "print('data matriks yang telah disaring pada kolo ke-2')\n",
    "print(M2)\n",
    "\n",
    "M3= [row[0] for row in M if row[1]%2==0]\n",
    "print('Data matriks yang telah ddisaring pada kolom ke-1')\n",
    "print(M3)\n",
    "\n",
    "#mengumpulkan diagonal dari matriks \n",
    "print('Matriks 3x3:')\n",
    "print(M)\n",
    "diag=[M[i][i]for i in [0, 1, 2]]\n",
    "print('bentuk diagonal matriks')\n",
    "print(diag)"
   ]
  },
  {
   "cell_type": "code",
   "execution_count": 20,
   "id": "bca44ee0-eb2b-4fe9-b4fc-087179c43e26",
   "metadata": {},
   "outputs": [
    {
     "name": "stdout",
     "output_type": "stream",
     "text": [
      "elemen awal:\n",
      "['Jakarta', 'Bandung', 'Semarang']\n",
      "\n",
      "setelah append():\n",
      "['Jakarta', 'Bandung', 'Semarang', 'Surabaya']\n",
      "\n",
      "setelah insert():\n",
      "['Jakarta', 'Yogyakarta', 'Bandung', 'Semarang', 'Surabaya']\n",
      "n\\setelah extend():\n",
      "['Jakarta', 'Yogyakarta', 'Bandung', 'Semarang', 'Surabaya', 'Medan', 'Denpasar']\n"
     ]
    }
   ],
   "source": [
    "#menambah elemen ke dalam list\n",
    "#membuat list\n",
    "kota = ['Jakarta','Bandung','Semarang']\n",
    "print('elemen awal:')\n",
    "print(kota)\n",
    "\n",
    "#menggunakan metode append();untuk menambah elemen tunggal dibagian akhir list\n",
    "kota.append('Surabaya')\n",
    "print('\\nsetelah append():')\n",
    "print(kota)\n",
    "\n",
    "#menggunakan metode insert();untuk menambah elemen tunggal di indeks/posisi tertentu\n",
    "kota.insert(1,'Yogyakarta')\n",
    "print('\\nsetelah insert():')  \n",
    "print(kota)\n",
    "\n",
    "#menggunakan metode extend(); untuk menyambung atau menggabungkan suatu list dengan list lainnya\n",
    "kota.extend (['Medan', 'Denpasar'])\n",
    "print('n\\setelah extend():')\n",
    "print(kota)"
   ]
  },
  {
   "cell_type": "code",
   "execution_count": 21,
   "id": "1938bdd7-5d4b-4c48-af23-3323b2a45d83",
   "metadata": {},
   "outputs": [
    {
     "name": "stdout",
     "output_type": "stream",
     "text": [
      "Sebelum diubah:\n",
      "['ayam', 'kucing', 'tikus']\n",
      "\n",
      "Setelah diubah:\n",
      "['ayam', 'ular', 'buaya']\n"
     ]
    }
   ],
   "source": [
    "# Mengubah Nilai Elemen di dalam List\n",
    "\n",
    "#membuat List\n",
    "hewan =['ayam', 'kucing', 'tikus']\n",
    "print(\"Sebelum diubah:\")\n",
    "print(hewan)\n",
    "\n",
    "#mengubah nilai elemen List\n",
    "hewan[1]='ular'\n",
    "hewan [-1]='buaya'\n",
    "\n",
    "#menampilkan hasil perubahan\n",
    "print('\\nSetelah diubah:')\n",
    "print(hewan)"
   ]
  },
  {
   "cell_type": "code",
   "execution_count": 22,
   "id": "1c8e4608-d1f1-47c5-9af3-e9a1b7ad3005",
   "metadata": {},
   "outputs": [
    {
     "name": "stdout",
     "output_type": "stream",
     "text": [
      "Sebelum dihapus:\n",
      "['Indonesia', 'Singapura', 'Malaysia', 'Thailand', 'Vietnam', 'India']\n",
      "\n",
      "Setelah dihapus dgn metode remove():\n",
      "['Indonesia', 'Malaysia', 'Thailand', 'India']\n",
      "\n",
      "Setelah dihapus dgn metode del[]:\n",
      "['Indonesia', 'India']\n",
      "2\n",
      "0\n"
     ]
    }
   ],
   "source": [
    "#Menghapus Elemen dari List\n",
    "#membuat List\n",
    "negara= ['Indonesia', 'Singapura', 'Malaysia', 'Thailand', 'Vietnam', 'India']\n",
    "print('Sebelum dihapus:')\n",
    "print(negara)\n",
    "\n",
    "#menggunakan remove(); menghapus elemen List berdasarkan nilainya\n",
    "#bentuk umum: nama_variabel.remove()\n",
    "negara.remove('Singapura')\n",
    "negara.remove('Vietnam')\n",
    "\n",
    "#menampilkan hasil setelah dihapus dgn metode remove()\n",
    "print('\\nSetelah dihapus dgn metode remove():')\n",
    "print(negara)\n",
    "\n",
    "#menggunakan del[]; menghapus elemen List berdasarkan indeksnya\n",
    "#Bentuk umum: del nama variabel [indeks]\n",
    "del negara [2]\n",
    "del negara [-2]\n",
    "\n",
    "#menampilkan hasil setelah dihapus dengan metode del []\n",
    "print('\\nSetelah dihapus dgn metode del[]:')\n",
    "print(negara)\n",
    "\n",
    "#menggunakan metode clear(); menghapus seluruh elemen di dalam List\n",
    "print(len(negara))\n",
    "negara.clear()\n",
    "print(len(negara))"
   ]
  },
  {
   "cell_type": "code",
   "execution_count": 23,
   "id": "450aabc8-30d1-4b8d-ba27-8e7345bbb304",
   "metadata": {},
   "outputs": [
    {
     "name": "stdout",
     "output_type": "stream",
     "text": [
      "['pepaya', 'mangga', 'pisang', 'jambu']\n",
      "pepaya berada pada indeks ke-\n",
      "0\n",
      "jambu berada pada indeks ke-\n",
      "3\n"
     ]
    }
   ],
   "source": [
    "#Mencari Elemen di dalam List\n",
    "#menggunakan metode index()\n",
    "#bentuk umum: nama List.index(nilai)\n",
    "#membuat List\n",
    "buah= ['pepaya', 'mangga', 'pisang', 'jambu']\n",
    "print(buah)\n",
    "\n",
    "#mencari elemen List\n",
    "#bentuk umum: nama variabel.index('nilai atau elemen yg akan diindeks')\n",
    "print('pepaya berada pada indeks ke-')\n",
    "print(buah.index('pepaya'))\n",
    "print('jambu berada pada indeks ke-')\n",
    "print(buah.index('jambu'))"
   ]
  },
  {
   "cell_type": "code",
   "execution_count": 24,
   "id": "8393a940-76ba-4286-b7d3-3b1dd3fae9d6",
   "metadata": {},
   "outputs": [
    {
     "name": "stdout",
     "output_type": "stream",
     "text": [
      "Data list awal:\n",
      "['bb', 'aa', 'cc']\n",
      "Setelah di sort:\n",
      "['aa', 'bb', 'cc']\n",
      "Data list:\n",
      "['aa', 'bb', 'cc']\n",
      "Setelah di reverse:\n",
      "['cc', 'bb', 'aa']\n"
     ]
    }
   ],
   "source": [
    "#Menyusun data dalam List menggunakan metode sort() dan reverse()\n",
    "#membuat List\n",
    "L= ['bb', 'aa', 'cc']\n",
    "\n",
    "#menggunakan metode sort()\n",
    "print('Data list awal:')\n",
    "print(L)\n",
    "print('Setelah di sort:')\n",
    "L.sort()\n",
    "print(L)\n",
    "\n",
    "# menggunakan metode reverse()\n",
    "print('Data list:')\n",
    "print(L)\n",
    "print('Setelah di reverse:')\n",
    "L.reverse()\n",
    "print(L)"
   ]
  },
  {
   "cell_type": "code",
   "execution_count": 25,
   "id": "13ed2960-5920-4966-9d3b-932075629090",
   "metadata": {},
   "outputs": [
    {
     "name": "stdout",
     "output_type": "stream",
     "text": [
      "Data list:\n",
      "['Politeknik', 'Takumi', 'Hebat']\n",
      "Mengulang karakter pada item Takumi sebanyak 2 kali\n",
      "['TT', 'aa', 'kk', 'uu', 'mm', 'ii']\n",
      "['TTT', 'aaa', 'kkk', 'uuu', 'mmm', 'iii']\n"
     ]
    }
   ],
   "source": [
    "#Mengulang karakter dalam sebuah string\n",
    "\n",
    "#membuat List\n",
    "list= ['Politeknik', 'Takumi', 'Hebat']\n",
    "print('Data list:')\n",
    "print(list)\n",
    "print('Mengulang karakter pada item Takumi sebanyak 2 kali')\n",
    "doubles =[c * 2 for c in 'Takumi']\n",
    "print(doubles)\n",
    "doubles1= [c * 3 for c in 'Takumi']\n",
    "print(doubles1)"
   ]
  },
  {
   "cell_type": "code",
   "execution_count": 26,
   "id": "39ffb65d-4d90-49f4-b51f-062da4958e2e",
   "metadata": {},
   "outputs": [
    {
     "name": "stdout",
     "output_type": "stream",
     "text": [
      "<class 'tuple'>\n",
      "('Minggu', 'Senin', 'Selasa', 'Rabu', 'Kamis', 'Jumat', 'Sabtu')\n",
      "Minggu\n",
      "Selasa\n",
      "Jumat\n"
     ]
    }
   ],
   "source": [
    "# Type Tuple adalah List yang tidak dapat diubah\n",
    "# Tuple sebenarnya mirip dengan array konstan\n",
    "# Bentuk umum Tuple menggunakan tanda kurung: nama tuple (nilai1, nilai2, nilai3,...)\n",
    "\n",
    "#Contoh:\n",
    "hari =('Minggu', 'Senin', 'Selasa', 'Rabu', 'Kamis', 'Jumat', 'Sabtu')\n",
    "print(type(hari))\n",
    "\n",
    "#menampilkan hari\n",
    "print(hari)\n",
    "print(hari[0])\n",
    "print(hari[2])\n",
    "print(hari[5])"
   ]
  },
  {
   "cell_type": "code",
   "execution_count": 28,
   "id": "308ed1e8-7beb-450a-900b-b2c831adf783",
   "metadata": {},
   "outputs": [
    {
     "name": "stdout",
     "output_type": "stream",
     "text": [
      "(1, 2, 3, 4)\n",
      "4\n",
      "(1, 2, 3, 4, 5, 6)\n",
      "1\n",
      "3\n",
      "1\n",
      "('Takumi', 4.0, [11, 22, 33])\n",
      "4.0\n",
      "22\n"
     ]
    }
   ],
   "source": [
    "#Contoh operasi pada Tuple\n",
    "T=(1, 2, 3, 4) # terdapat 4 item pada Tuple\n",
    "\n",
    "print(T) # menampilkan item pada Tuple\n",
    "print(len(T)) # menampilkan banyaknya item pada Tuple atau Length\n",
    "print(T+ (5, 6)) # Penggabungan\n",
    "print(T[0]) # menampilkan item pada indeks 8\n",
    "print(T.index(4)) # menampilkan item pada indeks 4\n",
    "print(T.count(4)) # menghitung item bernilai 4 pada tuple\n",
    "\n",
    "T1 =('Takumi', 4.0, [11, 22, 33])\n",
    "print(T1) # menampilkan item pada tuple T1\n",
    "print(T1[1])\n",
    "print(T1[2][1])"
   ]
  },
  {
   "cell_type": "code",
   "execution_count": 29,
   "id": "3868c692-19ea-4500-b2d7-09e5382fa359",
   "metadata": {},
   "outputs": [
    {
     "name": "stdout",
     "output_type": "stream",
     "text": [
      "<class 'tuple'>\n",
      "('Minggu', 'Senin', 'Selasa', 'Rabu', 'Kamis', 'Jumat', 'Sabtu')\n",
      "Minggu\n",
      "Selasa\n",
      "Jumat\n"
     ]
    }
   ],
   "source": [
    "#Bentuk umum Tuple menggunakan tanpa tanda kurung: nama tuple nilail, nilai2, nilai3,..\n",
    "hari = 'Minggu', 'Senin', 'Selasa', 'Rabu', \\\n",
    "'Kamis', 'Jumat', 'Sabtu'\n",
    "print(type (hari))\n",
    "\n",
    "#menampilkan hari\n",
    "print(hari)\n",
    "print(hari[0])\n",
    "print(hari[2])\n",
    "print(hari[5])"
   ]
  },
  {
   "cell_type": "code",
   "execution_count": 30,
   "id": "fcfeb7fa-5e7f-4491-844a-618ea477d488",
   "metadata": {},
   "outputs": [
    {
     "name": "stdout",
     "output_type": "stream",
     "text": [
      "Data Tuple\n",
      "('Minggu', 'Senin', 'Selasa', 'Rabu', 'Kamis', 'Jumat', 'Sabtu')\n",
      "indeks positif:\n",
      "Minggu\n",
      "indeks negatif:\n",
      "Sabtu\n"
     ]
    }
   ],
   "source": [
    "#Tuple didefinisikan menggunakan tanda kurung(), bukan bracket[]\n",
    "#Tuple yang dibuat tanpa tanda kurung perlu menggunakan tanda backslash (1) untuk menyambung baris perintah pertama dan kedua\n",
    "#Beberapa hal yang perlu diperhatikan sengenai tuple\n",
    "hari= ('Minggu', 'Senin', 'Selasa', 'Rabu', 'Kamis', 'Jumat', 'Sabtu')\n",
    "print('Data Tuple')\n",
    "print(hari)\n",
    "\n",
    "#Tuple diindeks menggunakan bilangan dan diawali dart e\n",
    "print('indeks positif:')\n",
    "print(hari[0]) # indeks positif\n",
    "\n",
    "#Indeks negatif pada tuple dapat digunakan dan 1 selalu menunjukkan elemen terakhir\n",
    "print('indeks negatif:')\n",
    "print(hari[-1]) # indeks negatif"
   ]
  },
  {
   "cell_type": "code",
   "execution_count": 31,
   "id": "24189c2a-b9bf-4825-b6dc-c84f758301eb",
   "metadata": {},
   "outputs": [
    {
     "name": "stdout",
     "output_type": "stream",
     "text": [
      "Data Tuple awal\n",
      "('Minggu', 'Senin', 'Selasa', 'Rabu', 'Kamis', 'Jumat', 'Sabtu')\n"
     ]
    },
    {
     "ename": "AttributeError",
     "evalue": "'tuple' object has no attribute 'append'",
     "output_type": "error",
     "traceback": [
      "\u001b[1;31m---------------------------------------------------------------------------\u001b[0m",
      "\u001b[1;31mAttributeError\u001b[0m                            Traceback (most recent call last)",
      "Cell \u001b[1;32mIn[31], line 6\u001b[0m\n\u001b[0;32m      4\u001b[0m \u001b[38;5;28mprint\u001b[39m(\u001b[38;5;124m'\u001b[39m\u001b[38;5;124mData Tuple awal\u001b[39m\u001b[38;5;124m'\u001b[39m)\n\u001b[0;32m      5\u001b[0m \u001b[38;5;28mprint\u001b[39m(hari)\n\u001b[1;32m----> 6\u001b[0m hari\u001b[38;5;241m.\u001b[39mappend(\u001b[38;5;124m'\u001b[39m\u001b[38;5;124mHari Libur\u001b[39m\u001b[38;5;124m'\u001b[39m)\n\u001b[0;32m      7\u001b[0m \u001b[38;5;28mprint\u001b[39m(\u001b[38;5;124m'\u001b[39m\u001b[38;5;130;01m\\n\u001b[39;00m\u001b[38;5;124mSetelah append():\u001b[39m\u001b[38;5;124m'\u001b[39m)\n\u001b[0;32m      8\u001b[0m \u001b[38;5;28mprint\u001b[39m(hari)\n",
      "\u001b[1;31mAttributeError\u001b[0m: 'tuple' object has no attribute 'append'"
     ]
    }
   ],
   "source": [
    "# Tuple tidok memiliki metode oppend()\n",
    "\n",
    "hari =('Minggu', 'Senin', 'Selasa', 'Rabu', 'Kamis', 'Jumat', 'Sabtu')\n",
    "print('Data Tuple awal')\n",
    "print(hari)\n",
    "hari.append('Hari Libur')\n",
    "print('\\nSetelah append():')\n",
    "print(hari)"
   ]
  },
  {
   "cell_type": "code",
   "execution_count": 32,
   "id": "aa576a04-a64e-4d4a-ba31-33f30280ff39",
   "metadata": {},
   "outputs": [
    {
     "name": "stdout",
     "output_type": "stream",
     "text": [
      "Data Tuple awal\n",
      "('Minggu', 'Senin', 'Selasa', 'Rabu', 'Kamis', 'Jumat', 'Sabtu')\n"
     ]
    },
    {
     "ename": "TypeError",
     "evalue": "'tuple' object does not support item assignment",
     "output_type": "error",
     "traceback": [
      "\u001b[1;31m---------------------------------------------------------------------------\u001b[0m",
      "\u001b[1;31mTypeError\u001b[0m                                 Traceback (most recent call last)",
      "Cell \u001b[1;32mIn[32], line 8\u001b[0m\n\u001b[0;32m      6\u001b[0m \u001b[38;5;28mprint\u001b[39m(hari)\n\u001b[0;32m      7\u001b[0m \u001b[38;5;66;03m# mengubah nilai elemen tuple\u001b[39;00m\n\u001b[1;32m----> 8\u001b[0m hari[\u001b[38;5;241m0\u001b[39m]\u001b[38;5;241m=\u001b[39m\u001b[38;5;124m'\u001b[39m\u001b[38;5;124mAhad\u001b[39m\u001b[38;5;124m'\u001b[39m\n\u001b[0;32m      9\u001b[0m \u001b[38;5;66;03m# menampilkan hasil perubahan\u001b[39;00m\n\u001b[0;32m     10\u001b[0m \u001b[38;5;28mprint\u001b[39m(\u001b[38;5;124m'\u001b[39m\u001b[38;5;130;01m\\n\u001b[39;00m\u001b[38;5;124mSetelah diubah:\u001b[39m\u001b[38;5;124m'\u001b[39m)\n",
      "\u001b[1;31mTypeError\u001b[0m: 'tuple' object does not support item assignment"
     ]
    }
   ],
   "source": [
    "# Elemen Tuple tidak dapat diubah\n",
    "# membuat tuple\n",
    "\n",
    "hari =('Minggu', 'Senin', 'Selasa', 'Rabu', 'Kamis', 'Jumat','Sabtu')\n",
    "print('Data Tuple awal')\n",
    "print(hari)\n",
    "# mengubah nilai elemen tuple\n",
    "hari[0]='Ahad'\n",
    "# menampilkan hasil perubahan\n",
    "print('\\nSetelah diubah:')\n",
    "print(hari)"
   ]
  },
  {
   "cell_type": "code",
   "execution_count": 33,
   "id": "89b862b4-28ff-494f-adcd-6456c6cb4f0b",
   "metadata": {},
   "outputs": [
    {
     "name": "stdout",
     "output_type": "stream",
     "text": [
      "Data Tuple awal\n",
      "('Minggu', 'Senin', 'Selasa', 'Rabu', 'Kamis', 'Jumat', 'Sabtu')\n"
     ]
    },
    {
     "ename": "AttributeError",
     "evalue": "'tuple' object has no attribute 'remove'",
     "output_type": "error",
     "traceback": [
      "\u001b[1;31m---------------------------------------------------------------------------\u001b[0m",
      "\u001b[1;31mAttributeError\u001b[0m                            Traceback (most recent call last)",
      "Cell \u001b[1;32mIn[33], line 8\u001b[0m\n\u001b[0;32m      5\u001b[0m \u001b[38;5;28mprint\u001b[39m(hari)\n\u001b[0;32m      7\u001b[0m \u001b[38;5;66;03m#menggunakan remove() pada Tuple\u001b[39;00m\n\u001b[1;32m----> 8\u001b[0m hari\u001b[38;5;241m.\u001b[39mremove(\u001b[38;5;124m'\u001b[39m\u001b[38;5;124mSenin\u001b[39m\u001b[38;5;124m'\u001b[39m)\n\u001b[0;32m     10\u001b[0m \u001b[38;5;66;03m#menampilkan hasil setelah dihapus dgn metode remove()\u001b[39;00m\n\u001b[0;32m     11\u001b[0m \u001b[38;5;28mprint\u001b[39m(\u001b[38;5;124m'\u001b[39m\u001b[38;5;130;01m\\n\u001b[39;00m\u001b[38;5;124mSetelah dihapus dgn metode remove():\u001b[39m\u001b[38;5;124m'\u001b[39m)\n",
      "\u001b[1;31mAttributeError\u001b[0m: 'tuple' object has no attribute 'remove'"
     ]
    }
   ],
   "source": [
    "#Tuple tidak memiliki metode remove()\n",
    "#membuat List\n",
    "hari =('Minggu', 'Senin', 'Selasa', 'Rabu', 'Kamis', 'Jumat', 'Sabtu')\n",
    "print('Data Tuple awal')\n",
    "print(hari)\n",
    "\n",
    "#menggunakan remove() pada Tuple\n",
    "hari.remove('Senin')\n",
    "\n",
    "#menampilkan hasil setelah dihapus dgn metode remove()\n",
    "print('\\nSetelah dihapus dgn metode remove():')\n",
    "print(hari)"
   ]
  },
  {
   "cell_type": "code",
   "execution_count": 34,
   "id": "c7e4c150-1246-40bc-8349-b8a55b4f1350",
   "metadata": {},
   "outputs": [
    {
     "name": "stdout",
     "output_type": "stream",
     "text": [
      "Data Tuple\n",
      "('Minggu', 'Senin', 'Selasa', 'Rabu', 'Kamis', 'Jumat', 'Sabtu')\n",
      "Rabu\n",
      "3\n"
     ]
    }
   ],
   "source": [
    "#Tuple memiliki metode indeks()\n",
    "hari =('Minggu', 'Senin', 'Selasa', 'Rabu', 'Kamis', 'Jumat', 'Sabtu')\n",
    "print('Data Tuple')\n",
    "print(hari)\n",
    "print(hari[3])\n",
    "indeks=hari.index('Rabu')\n",
    "print(indeks)"
   ]
  },
  {
   "cell_type": "code",
   "execution_count": 35,
   "id": "5a25575e-c8ab-4a98-b56a-88b2403afc95",
   "metadata": {},
   "outputs": [
    {
     "name": "stdout",
     "output_type": "stream",
     "text": [
      "Data Tuple\n",
      "('Minggu', 'Senin', 'Selasa', 'Rabu', 'Kamis', 'Jumat', 'Sabtu')\n",
      "Selasa pada item Tuple\n",
      "True\n",
      "Ahad pada item Tuple\n",
      "False\n"
     ]
    }
   ],
   "source": [
    "#Tuple menggunakan operator \"in\" digunakan untuk memeriksa apakah termasuk item pada tuple atau tidak\n",
    "hari= ('Minggu', 'Senin', 'Selasa', 'Rabu', 'Kamis', 'Jumat', 'Sabtu')\n",
    "print('Data Tuple')\n",
    "print(hari)\n",
    "print('Selasa pada item Tuple')\n",
    "print('Selasa' in hari)\n",
    "print('Ahad pada item Tuple')\n",
    "print('Ahad' in hari)"
   ]
  },
  {
   "cell_type": "code",
   "execution_count": 36,
   "id": "cdefac0c-ff15-4df7-a8e0-654e2544f9f6",
   "metadata": {},
   "outputs": [
    {
     "name": "stdout",
     "output_type": "stream",
     "text": [
      "2025-10-06\n",
      "06 Oktober -\n"
     ]
    }
   ],
   "source": [
    "#membuat Kalender\n",
    "import datetime as dt\n",
    "\n",
    "#Tuple untuk nama bulan\n",
    "BULAN =('Januari', 'Februari', 'Maret', 'April', 'Mei', 'Juni', 'Juli', 'Agustus', 'September', 'Oktober', 'November', 'Desember')\n",
    "\n",
    "#Today akan berisi: 'YYYY-MM-DD'\n",
    "today = dt.date.isoformat(dt.date.today())\n",
    "yyyy = today [4]\n",
    "mm =today [5:7]\n",
    "dd = today [8:]\n",
    "print(today)\n",
    "print('%s %s %s' % (dd, BULAN[int(mm)-1], yyyy))\n",
    "\n",
    "#Penjelasan:\n",
    "#metode isoformat() dari kelas date yang tersimpan didalam modul datetime berfungsi untuk mengembalikan tanggal yang dilewatkan sehingga argumen dalam format 'YY-MM-DD'\n",
    "#Tanggal saat ini dapat diperoleh dengan memanggil metode today() dari kelas date.\n",
    "#pada kode diatas digunakan tuple untuk menyimpan nama-nama bulan"
   ]
  },
  {
   "cell_type": "code",
   "execution_count": null,
   "id": "c2107adf-34d3-470b-b9a3-15219e841be4",
   "metadata": {},
   "outputs": [],
   "source": []
  }
 ],
 "metadata": {
  "kernelspec": {
   "display_name": "Python 3 (ipykernel)",
   "language": "python",
   "name": "python3"
  },
  "language_info": {
   "codemirror_mode": {
    "name": "ipython",
    "version": 3
   },
   "file_extension": ".py",
   "mimetype": "text/x-python",
   "name": "python",
   "nbconvert_exporter": "python",
   "pygments_lexer": "ipython3",
   "version": "3.13.5"
  }
 },
 "nbformat": 4,
 "nbformat_minor": 5
}

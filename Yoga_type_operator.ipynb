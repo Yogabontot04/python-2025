{
 "cells": [
  {
   "cell_type": "code",
   "execution_count": 1,
   "id": "9b20b4a2-1bf8-4472-8456-be69c082b953",
   "metadata": {},
   "outputs": [
    {
     "name": "stdout",
     "output_type": "stream",
     "text": [
      "5\n"
     ]
    }
   ],
   "source": [
    "# menggunakan tanda operasi / operator sama dengan (=)\n",
    "# Contoh\n",
    "a = 5\n",
    "print(a)"
   ]
  },
  {
   "cell_type": "code",
   "execution_count": 2,
   "id": "7333df05-2b44-4ecc-af91-197649303237",
   "metadata": {},
   "outputs": [
    {
     "name": "stdout",
     "output_type": "stream",
     "text": [
      "13\n"
     ]
    }
   ],
   "source": [
    "# Contoh\n",
    "a = a + 8 # a baru a Lama + 8\n",
    "print(a)"
   ]
  },
  {
   "cell_type": "code",
   "execution_count": 3,
   "id": "a17504a2-700d-43a5-ac92-807e2a70f683",
   "metadata": {},
   "outputs": [
    {
     "name": "stdout",
     "output_type": "stream",
     "text": [
      "13\n"
     ]
    }
   ],
   "source": [
    " # merubah kode operasi penjumlahan\n",
    "# Contoh\n",
    "a = 5\n",
    "a+=8# a baru a Lama + 8\n",
    "print(a)"
   ]
  },
  {
   "cell_type": "code",
   "execution_count": 5,
   "id": "e66b8842-d2b4-4609-bdce-037788608314",
   "metadata": {},
   "outputs": [
    {
     "name": "stdout",
     "output_type": "stream",
     "text": [
      "30\n"
     ]
    }
   ],
   "source": [
    "# operasi perkalian\n",
    "b = 10\n",
    "b*= 3\n",
    "print(b)"
   ]
  },
  {
   "cell_type": "code",
   "execution_count": 6,
   "id": "6916c47a-842a-4cd8-b96a-08eb2ac50319",
   "metadata": {},
   "outputs": [
    {
     "name": "stdout",
     "output_type": "stream",
     "text": [
      "4\n",
      "4.285714285714286\n"
     ]
    }
   ],
   "source": [
    " #operasi pembagian bilangan bulat (//=)\n",
    "b = 30\n",
    "b //= 7\n",
    "print(b)\n",
    "print(30/7)"
   ]
  },
  {
   "cell_type": "code",
   "execution_count": 7,
   "id": "0f962ed1-b20d-4708-ae30-876e34f252b8",
   "metadata": {},
   "outputs": [
    {
     "name": "stdout",
     "output_type": "stream",
     "text": [
      "4.285714285714286\n",
      "4.285714285714286\n"
     ]
    }
   ],
   "source": [
    "# operasi pembagian bilangan riil (/=)\n",
    "b = 30.0\n",
    "b /= 7\n",
    "print(b)\n",
    "print(30/7)"
   ]
  },
  {
   "cell_type": "code",
   "execution_count": 8,
   "id": "529d46d8-42ef-47cb-b6cc-8bbca2792032",
   "metadata": {},
   "outputs": [
    {
     "name": "stdout",
     "output_type": "stream",
     "text": [
      "2\n"
     ]
    }
   ],
   "source": [
    "# operasi pencarian sisa bagi(%=)\n",
    "b = 30\n",
    "b%= 7\n",
    "print(b)"
   ]
  },
  {
   "cell_type": "code",
   "execution_count": 38,
   "id": "cc131786-24be-4279-9840-2935383202b3",
   "metadata": {},
   "outputs": [
    {
     "name": "stdout",
     "output_type": "stream",
     "text": [
      "x = 8\n",
      "y = 3\n",
      "x + y 11\n",
      "x - y 5\n",
      "x * y 24\n",
      "x / y 2.6666666666666665\n",
      "x //y 2\n",
      "x % y 2\n",
      "x ** y 512\n"
     ]
    }
   ],
   "source": [
    "# Contoh program\n",
    "def main():\n",
    "    # mendefinisikan variabel x dan y\n",
    "    x = 8\n",
    "    y = 3\n",
    "\n",
    "    # menampilkan nilai x dan y\n",
    "    print('x =', x)\n",
    "    print('y =', y)\n",
    "\n",
    "    # melakukan perhitungan terhadap x dan y\n",
    "    print('x + y', (x + y))\n",
    "    print('x - y', (x - y))\n",
    "    print('x * y', (x * y))\n",
    "    print('x / y', (x / y))\n",
    "    print('x //y', (x // y))\n",
    "    print('x % y', (x % y))\n",
    "    print('x ** y', (x ** y))\n",
    "\n",
    "if __name__ == '__main__':\n",
    "    main()"
   ]
  },
  {
   "cell_type": "code",
   "execution_count": 41,
   "id": "4185d27a-343a-4540-8ce0-1fdfb7d9ab7c",
   "metadata": {},
   "outputs": [
    {
     "name": "stdout",
     "output_type": "stream",
     "text": [
      "x = 8\n",
      "y = 5\n",
      "[2, 4, 8, 16, 32]\n",
      "x == y False\n",
      "x != y True\n",
      "x > y True\n",
      "x >= y True\n",
      "x < y False\n",
      "x <= y False\n",
      "x in li True\n",
      "y in li False\n"
     ]
    }
   ],
   "source": [
    "# Contoh program\n",
    "def main():\n",
    "    # mendefinisikan variabel x dan y\n",
    "    # dan li (bertipe list)\n",
    "    x = 8\n",
    "    y = 5\n",
    "    li = [2, 4, 8, 16, 32]\n",
    "    \n",
    "    # menampilkan nilai x dan y\n",
    "    print('x =', x)\n",
    "    print('y =', y)\n",
    "    print(li)\n",
    "    \n",
    "    # melakukan pemeriksaan terhadap x dan y\n",
    "    print('x == y', (x == y))\n",
    "    print('x != y', (x != y))\n",
    "    print('x > y', (x > y))\n",
    "    print('x >= y', (x >= y))\n",
    "    print('x < y', (x < y))\n",
    "    print('x <= y', (x <= y))\n",
    "    print('x in li', (x in li))\n",
    "    print('y in li', (y in li))\n",
    "\n",
    "if __name__ == '__main__':\n",
    "    main()"
   ]
  },
  {
   "cell_type": "code",
   "execution_count": 53,
   "id": "29a83e74-3d60-434c-a777-92b508197fa5",
   "metadata": {},
   "outputs": [
    {
     "name": "stdout",
     "output_type": "stream",
     "text": [
      "Operasi AND\n",
      "True and True \t: True\n",
      "True and False \t: False\n",
      "False and True \t: False\n",
      "False and False \t: False\n"
     ]
    }
   ],
   "source": [
    "# Contoh program operasi AND\n",
    "def main():\n",
    "    print('Operasi AND')\n",
    "    print('True and True \\t:', (True and True))\n",
    "    print('True and False \\t:', (True and False))\n",
    "    print('False and True \\t:', (False and True))\n",
    "    print('False and False \\t:', (False and False))\n",
    "if __name__ == '__main__':\n",
    "    main()"
   ]
  },
  {
   "cell_type": "code",
   "execution_count": 1,
   "id": "cc6d1868-5d9c-4172-adeb-1a2724a44863",
   "metadata": {},
   "outputs": [
    {
     "name": "stdout",
     "output_type": "stream",
     "text": [
      "PoliteknikTakumi\n"
     ]
    }
   ],
   "source": [
    "#contoh \n",
    "str1 = 'Politeknik'\n",
    "str2 = 'Takumi'\n",
    "#menjumlahkan string\n",
    "str3 = (str1 + str2)\n",
    "print (str3)"
   ]
  },
  {
   "cell_type": "code",
   "execution_count": 2,
   "id": "80ba9cc5-d9dc-469e-a49a-81e61f8602f9",
   "metadata": {},
   "outputs": [
    {
     "name": "stdout",
     "output_type": "stream",
     "text": [
      "bil1: 15\n",
      "bil1: 7.25\n"
     ]
    }
   ],
   "source": [
    "#coontoh\n",
    "bil1 = 15\n",
    "bil2 = 7.25\n",
    "str1 = 'bil1: %d' %bil1\n",
    "str2 = 'bil1: %.2f' % bil2\n",
    "print(str1)\n",
    "print(str2)"
   ]
  },
  {
   "cell_type": "code",
   "execution_count": 3,
   "id": "6287de3c-3131-4bea-8868-3e705f34a612",
   "metadata": {},
   "outputs": [
    {
     "name": "stdout",
     "output_type": "stream",
     "text": [
      "'Takumi' ada di dalam string eko\n"
     ]
    }
   ],
   "source": [
    "#operator \"in\"\n",
    "#contoh\n",
    "eko = 'Politeknik Takumi'\n",
    "if 'Takumi' in eko:\n",
    "    print(\"'Takumi' ada di dalam string eko\")\n",
    "else:\n",
    "    print(\"'Takumi' ada di dalam string eko\")"
   ]
  },
  {
   "cell_type": "code",
   "execution_count": 4,
   "id": "5b541b7d-3b0c-4176-90d4-2b1c57d41d45",
   "metadata": {},
   "outputs": [
    {
     "name": "stdout",
     "output_type": "stream",
     "text": [
      "TTT\n",
      "TTT TTT TTT TTT TTT \n"
     ]
    }
   ],
   "source": [
    "#menerapkan operator \"*\"\n",
    "#Contoh \n",
    "karakter = 'T'\n",
    "teks = karakter * 3\n",
    "print (teks)\n",
    "print((teks +' ')* 5)"
   ]
  },
  {
   "cell_type": "code",
   "execution_count": 5,
   "id": "1b6e80f3-1996-41e5-9ed7-838ec9c847c2",
   "metadata": {},
   "outputs": [
    {
     "name": "stdout",
     "output_type": "stream",
     "text": [
      "Takumi Takumi Takumi Takumi Takumi \n"
     ]
    }
   ],
   "source": [
    "#contoh\n",
    "print('Takumi ' * 5)"
   ]
  },
  {
   "cell_type": "code",
   "execution_count": 6,
   "id": "19cb8f21-d6c7-4600-ae05-a51895356ef4",
   "metadata": {},
   "outputs": [
    {
     "name": "stdout",
     "output_type": "stream",
     "text": [
      "x: \t120\n",
      "y: \t127\n",
      "\n",
      "Bitwise AND\n",
      "x&y \t:120\n",
      "\n",
      "Bitwise OR\n",
      "x | y \t:127\n",
      "\n",
      "Bitwise XOR\n",
      "x^y \t:7\n",
      "\n",
      "Bitwise NOT\n",
      "~x \t:-121\n",
      "~y \t:-128\n",
      "\n",
      " Bitwise SHIFT LEFT\n",
      "x << 1 \t:240\n",
      "y << 1 \t:254\n",
      "\n",
      "Bitwise SHIFT RIGHT\n",
      "x >> 1 \t:60\n",
      "y >> 1 \t:63\n"
     ]
    }
   ],
   "source": [
    "#Contoh program:\n",
    "\n",
    "def main():\n",
    "    x = 120  #dalam bentuk biner: 01111000 \n",
    "    y = 127  #dalam bentuk biner: 01111111\n",
    "\n",
    "    # menampilkan nilai x dan y \n",
    "    print('x: \\t' + str(x)) \n",
    "    print('y: \\t' + str(y))\n",
    "\n",
    "    print('\\nBitwise AND') \n",
    "    print('x&y \\t:' + str(x&y))\n",
    "\n",
    "    print('\\nBitwise OR') \n",
    "    print('x | y \\t:' + str(x | y))\n",
    "\n",
    "    print('\\nBitwise XOR') \n",
    "    print('x^y \\t:' + str(x^y))\n",
    "\n",
    "    print('\\nBitwise NOT') \n",
    "    print('~x \\t:' + str(~x)) \n",
    "    print('~y \\t:' + str(~y))\n",
    "\n",
    "    print('\\n Bitwise SHIFT LEFT') \n",
    "    print('x << 1 \\t:' + str(x << 1)) \n",
    "    print('y << 1 \\t:' + str(y << 1))\n",
    "\n",
    "    print('\\nBitwise SHIFT RIGHT') \n",
    "    print('x >> 1 \\t:' + str(x >> 1)) \n",
    "    print('y >> 1 \\t:' + str(y >> 1))\n",
    "\n",
    "if __name__ == '__main__':\n",
    "    main()"
   ]
  },
  {
   "cell_type": "code",
   "execution_count": null,
   "id": "39e6d47d-a34c-43dc-a935-666ff97595a8",
   "metadata": {},
   "outputs": [],
   "source": []
  }
 ],
 "metadata": {
  "kernelspec": {
   "display_name": "Python 3 (ipykernel)",
   "language": "python",
   "name": "python3"
  },
  "language_info": {
   "codemirror_mode": {
    "name": "ipython",
    "version": 3
   },
   "file_extension": ".py",
   "mimetype": "text/x-python",
   "name": "python",
   "nbconvert_exporter": "python",
   "pygments_lexer": "ipython3",
   "version": "3.13.5"
  }
 },
 "nbformat": 4,
 "nbformat_minor": 5
}

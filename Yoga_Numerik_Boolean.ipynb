{
 "cells": [
  {
   "cell_type": "code",
   "execution_count": 1,
   "id": "5b82dabf-1952-4139-b7ba-ce0a8aa48be9",
   "metadata": {},
   "outputs": [
    {
     "name": "stdout",
     "output_type": "stream",
     "text": [
      "<class 'int'>\n",
      "<class 'int'>\n",
      "<class 'int'>\n"
     ]
    }
   ],
   "source": [
    "# type integer\n",
    "a = 1\n",
    "b = -17\n",
    "c = 100\n",
    "\n",
    "print(type(a))\n",
    "print(type(b))\n",
    "print(type(c))"
   ]
  },
  {
   "cell_type": "code",
   "execution_count": 2,
   "id": "c934b6d8-a670-4d3c-adcd-7d4b36c4f40e",
   "metadata": {},
   "outputs": [
    {
     "name": "stdout",
     "output_type": "stream",
     "text": [
      "<class 'float'>\n",
      "<class 'float'>\n",
      "<class 'float'>\n"
     ]
    }
   ],
   "source": [
    "# type float\n",
    "x = 3.14\n",
    "y = -0.175\n",
    "z = 2.05\n",
    "\n",
    "print(type(x))\n",
    "print(type(y))\n",
    "print(type(z))"
   ]
  },
  {
   "cell_type": "code",
   "execution_count": 3,
   "id": "38a7584b-1872-4120-b640-55b293faa5b7",
   "metadata": {},
   "outputs": [
    {
     "name": "stdout",
     "output_type": "stream",
     "text": [
      "<class 'complex'>\n",
      "<class 'complex'>\n",
      "3.0\n",
      "2.0\n"
     ]
    }
   ],
   "source": [
    "# type complex\n",
    "s1 = 3 + 2j\n",
    "s2 = -2.5j\n",
    "\n",
    "print(type(s1))\n",
    "print(type(s2))\n",
    "print(s1.real) #menampilkan bilangan real\n",
    "print(s1.imag) #menampilkan bilangan imajiner"
   ]
  },
  {
   "cell_type": "code",
   "execution_count": 4,
   "id": "e0b71a77-9bf3-4a51-8197-087ec1820888",
   "metadata": {},
   "outputs": [
    {
     "name": "stdout",
     "output_type": "stream",
     "text": [
      "3\n",
      "-17\n",
      "(-0.175+0j)\n"
     ]
    }
   ],
   "source": [
    "# Konversi Tipe data Numerik\n",
    "#Konversi ke integer\n",
    "x = int(3.14)\n",
    "print(x)\n",
    "\n",
    "#Konversi ke float\n",
    "b = (-17)\n",
    "print(b)\n",
    "\n",
    "#Konversi ke complex\n",
    "y = complex (-0.175)\n",
    "print(y)"
   ]
  },
  {
   "cell_type": "code",
   "execution_count": 5,
   "id": "f79874a6-cbc1-4e7d-9d53-44fab189e9db",
   "metadata": {},
   "outputs": [
    {
     "name": "stdout",
     "output_type": "stream",
     "text": [
      "21\n",
      "9\n",
      "90\n",
      "2.5\n",
      "2\n",
      "3\n",
      "11390625\n"
     ]
    }
   ],
   "source": [
    "# Operasi Aritmatika\n",
    "a = 15\n",
    "b = 6\n",
    "print(a + b) #penjumlahan\n",
    "print(a - b) #pengurangan\n",
    "print(a * b) #perkalian\n",
    "print(a / b) #pembagian\n",
    "print(a // b) #untuk pembagian bilagan bulat\n",
    "print(a % b) #modulus\n",
    "print(a ** b) #eksponen"
   ]
  },
  {
   "cell_type": "code",
   "execution_count": 6,
   "id": "72131afe-a3c6-4847-adcb-519d0c8964ee",
   "metadata": {},
   "outputs": [
    {
     "name": "stdout",
     "output_type": "stream",
     "text": [
      "2.0\n",
      "6.283185307179586\n",
      "1.0\n"
     ]
    }
   ],
   "source": [
    "# Modul math\n",
    "import math\n",
    "a = 4\n",
    "b = 2\n",
    "c = 0\n",
    "print(math.sqrt(a)) #akar variabel a = 4\n",
    "print(math.pi*(b)) #perkalian variabel b = 2 dengan pi = 3.14\n",
    "print(math.cos(c)) #cosinus variabel c = 0"
   ]
  },
  {
   "cell_type": "code",
   "execution_count": 7,
   "id": "262e0d2e-fffd-41f9-82e3-26d568934f22",
   "metadata": {},
   "outputs": [
    {
     "name": "stdout",
     "output_type": "stream",
     "text": [
      "(1.600485180440241+1.2496210676876531j)\n",
      "(22.979085577886128+14.744805188558727j)\n"
     ]
    }
   ],
   "source": [
    "# Modul cmath\n",
    "import cmath\n",
    "z = 1 + 4j\n",
    "print(cmath.sqrt(z)) #akar variabel z\n",
    "print(cmath.sin(z)) #sinus variabel z"
   ]
  },
  {
   "cell_type": "code",
   "execution_count": 8,
   "id": "c9d98a9d-7208-48f0-890f-b5c0d34dd12e",
   "metadata": {},
   "outputs": [
    {
     "name": "stdout",
     "output_type": "stream",
     "text": [
      "<class 'bool'>\n",
      "<class 'bool'>\n"
     ]
    }
   ],
   "source": [
    "# type Boolean (bool)\n",
    "t = True\n",
    "f = False\n",
    "\n",
    "print(type(t))\n",
    "print(type(f))"
   ]
  },
  {
   "cell_type": "code",
   "execution_count": 9,
   "id": "db9fe768-0335-4cba-8857-07df0c67ee15",
   "metadata": {},
   "outputs": [
    {
     "name": "stdout",
     "output_type": "stream",
     "text": [
      "False\n",
      "True\n",
      "False\n",
      "True\n",
      "True\n",
      "False\n"
     ]
    }
   ],
   "source": [
    "# Operasi Type Boolean\n",
    "t = True\n",
    "f = False\n",
    "\n",
    "print(t and f)\n",
    "print(t and t)\n",
    "print(f and f)\n",
    "print(t or f)\n",
    "print(t or t)\n",
    "print(f or f)"
   ]
  },
  {
   "cell_type": "code",
   "execution_count": null,
   "id": "e1633ddb-d7bc-418a-b35f-0b50d40c9d1c",
   "metadata": {},
   "outputs": [],
   "source": []
  }
 ],
 "metadata": {
  "kernelspec": {
   "display_name": "Python 3 (ipykernel)",
   "language": "python",
   "name": "python3"
  },
  "language_info": {
   "codemirror_mode": {
    "name": "ipython",
    "version": 3
   },
   "file_extension": ".py",
   "mimetype": "text/x-python",
   "name": "python",
   "nbconvert_exporter": "python",
   "pygments_lexer": "ipython3",
   "version": "3.13.5"
  }
 },
 "nbformat": 4,
 "nbformat_minor": 5
}

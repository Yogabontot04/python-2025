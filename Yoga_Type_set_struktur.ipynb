{
 "cells": [
  {
   "cell_type": "code",
   "execution_count": 1,
   "id": "8b4cbce7-36d4-4bdf-99af-efe5397dab6e",
   "metadata": {},
   "outputs": [
    {
     "name": "stdout",
     "output_type": "stream",
     "text": [
      "{32, 43, 11, 21}\n"
     ]
    }
   ],
   "source": [
    "s = set([11, 21, 32, 43])\n",
    "print(s)"
   ]
  },
  {
   "cell_type": "code",
   "execution_count": 2,
   "id": "ec096d84-a116-4dd2-8515-be6dd5ae4882",
   "metadata": {},
   "outputs": [
    {
     "name": "stdout",
     "output_type": "stream",
     "text": [
      "frozenset({1, 2, 3})\n"
     ]
    }
   ],
   "source": [
    "#contoh:\n",
    "fs = frozenset ([1, 2, 3])\n",
    "print(fs)"
   ]
  },
  {
   "cell_type": "code",
   "execution_count": 5,
   "id": "e8d9d554-d4fa-4954-8ce5-c8f0881d5a74",
   "metadata": {},
   "outputs": [
    {
     "name": "stdout",
     "output_type": "stream",
     "text": [
      "Elemen awal:\n",
      "33\n",
      "\n",
      "11\n",
      "\n",
      "44\n",
      "\n",
      "22\n",
      "\n",
      "55\n",
      "\n",
      "Setelah pemanggilan add():\n",
      "33\n",
      "\n",
      "66\n",
      "\n",
      "11\n",
      "\n",
      "44\n",
      "\n",
      "77\n",
      "\n",
      "22\n",
      "\n",
      "55\n",
      "\n",
      "Setelah pemanggilan update():\n",
      "33\n",
      "\n",
      "66\n",
      "\n",
      "99\n",
      "\n",
      "11\n",
      "\n",
      "44\n",
      "\n",
      "77\n",
      "\n",
      "22\n",
      "\n",
      "55\n",
      "\n",
      "88\n",
      "\n",
      "Setelah pemanggilan remove():\n",
      "33\n",
      "\n",
      "66\n",
      "\n",
      "99\n",
      "\n",
      "11\n",
      "\n",
      "77\n",
      "\n",
      "22\n",
      "\n",
      "55\n",
      "\n",
      "88\n",
      "\n",
      "Setelah pemanggilan clear():\n",
      "Himpunan kosong\n",
      "\n"
     ]
    },
    {
     "ename": "SystemExit",
     "evalue": "1",
     "output_type": "error",
     "traceback": [
      "An exception has occurred, use %tb to see the full traceback.\n",
      "\u001b[1;31mSystemExit\u001b[0m\u001b[1;31m:\u001b[0m 1\n"
     ]
    },
    {
     "name": "stderr",
     "output_type": "stream",
     "text": [
      "C:\\Users\\polit\\anaconda3\\Lib\\site-packages\\IPython\\core\\interactiveshell.py:3585: UserWarning: To exit: use 'exit', 'quit', or Ctrl-D.\n",
      "  warn(\"To exit: use 'exit', 'quit', or Ctrl-D.\", stacklevel=1)\n"
     ]
    }
   ],
   "source": [
    "import sys\n",
    "def printElements (s, info):\n",
    "    print(info)\n",
    "    if len(s) == 0:\n",
    "        print(\"Himpunan kosong\\n\")\n",
    "        sys.exit(1)\n",
    "    for e in s:\n",
    "        print(str(e) + \"\", end = '')\n",
    "        print(\"\\n\")\n",
    "\n",
    "# membuat himpunan\n",
    "s = set([11, 22, 33, 44, 55])\n",
    "printElements(s, \"Elemen awal:\")\n",
    "\n",
    "# menambah anggota/elemen baru\n",
    "# menggunakan metode add()\n",
    "s.add(66);\n",
    "s.add(77);\n",
    "printElements(s, \"Setelah pemanggilan add():\")\n",
    "\n",
    "# menambah anggota/elemen baru\n",
    "# menggunakan metode update()\n",
    "s.update([88, 99])\n",
    "printElements(s, \"Setelah pemanggilan update():\")\n",
    "\n",
    "#menghapus elemen dengan nilai 44\n",
    "s.remove(44)\n",
    "printElements(s, \"Setelah pemanggilan remove():\")\n",
    "\n",
    "#menghapus semua elemen\n",
    "s.clear()\n",
    "printElements(s, \"Setelah pemanggilan clear():\")"
   ]
  },
  {
   "cell_type": "code",
   "execution_count": 6,
   "id": "adf1c1df-5b6f-43d9-aea8-c43d0baf4366",
   "metadata": {},
   "outputs": [
    {
     "name": "stdout",
     "output_type": "stream",
     "text": [
      "Operasi union:\n",
      "{1, 2, 3, 4}\n",
      "Operasi intersection:\n",
      "{3}\n",
      "Operasi difference:\n",
      "{1, 2}\n",
      "Operasi symmetric difference:\n",
      "{1, 2, 4}\n"
     ]
    }
   ],
   "source": [
    "# Type set mendukung operasi-operasi himpunan seperti:\n",
    "x = set([1, 2, 3])\n",
    "y = set([3, 4])\n",
    "\n",
    "a = x | y #union \n",
    "print('Operasi union:')\n",
    "print(a)\n",
    "\n",
    "b = x & y #intersection \n",
    "print('Operasi intersection:')\n",
    "print(b)\n",
    "\n",
    "c = x - y \n",
    "print('Operasi difference:')\n",
    "print(c)\n",
    "\n",
    "d = x^y\n",
    "print('Operasi symmetric difference:')\n",
    "print(d)"
   ]
  },
  {
   "cell_type": "code",
   "execution_count": 7,
   "id": "05e73267-f3e3-4831-8aab-03639c339003",
   "metadata": {},
   "outputs": [
    {
     "name": "stdout",
     "output_type": "stream",
     "text": [
      "frozenset({1, 2, 3})\n"
     ]
    },
    {
     "ename": "AttributeError",
     "evalue": "'frozenset' object has no attribute 'add'",
     "output_type": "error",
     "traceback": [
      "\u001b[1;31m---------------------------------------------------------------------------\u001b[0m",
      "\u001b[1;31mAttributeError\u001b[0m                            Traceback (most recent call last)",
      "Cell \u001b[1;32mIn[7], line 4\u001b[0m\n\u001b[0;32m      2\u001b[0m fs\u001b[38;5;241m=\u001b[39m \u001b[38;5;28mfrozenset\u001b[39m ([\u001b[38;5;241m1\u001b[39m, \u001b[38;5;241m2\u001b[39m, \u001b[38;5;241m3\u001b[39m])\n\u001b[0;32m      3\u001b[0m \u001b[38;5;28mprint\u001b[39m(fs)\n\u001b[1;32m----> 4\u001b[0m fs\u001b[38;5;241m.\u001b[39madd(\u001b[38;5;241m4\u001b[39m)\n",
      "\u001b[1;31mAttributeError\u001b[0m: 'frozenset' object has no attribute 'add'"
     ]
    }
   ],
   "source": [
    "#frozenset tidak memiliki metode add()\n",
    "fs= frozenset ([1, 2, 3])\n",
    "print(fs)\n",
    "fs.add(4)"
   ]
  },
  {
   "cell_type": "code",
   "execution_count": 8,
   "id": "61e88a58-8aa3-4799-9abe-d51aa4dc5775",
   "metadata": {},
   "outputs": [
    {
     "name": "stdout",
     "output_type": "stream",
     "text": [
      "frozenset({1, 2, 3})\n"
     ]
    },
    {
     "ename": "AttributeError",
     "evalue": "'frozenset' object has no attribute 'update'",
     "output_type": "error",
     "traceback": [
      "\u001b[1;31m---------------------------------------------------------------------------\u001b[0m",
      "\u001b[1;31mAttributeError\u001b[0m                            Traceback (most recent call last)",
      "Cell \u001b[1;32mIn[8], line 4\u001b[0m\n\u001b[0;32m      2\u001b[0m fs\u001b[38;5;241m=\u001b[39m \u001b[38;5;28mfrozenset\u001b[39m ([\u001b[38;5;241m1\u001b[39m, \u001b[38;5;241m2\u001b[39m, \u001b[38;5;241m3\u001b[39m])\n\u001b[0;32m      3\u001b[0m \u001b[38;5;28mprint\u001b[39m(fs)\n\u001b[1;32m----> 4\u001b[0m fs\u001b[38;5;241m.\u001b[39mupdate(\u001b[38;5;241m4\u001b[39m, \u001b[38;5;241m5\u001b[39m)\n",
      "\u001b[1;31mAttributeError\u001b[0m: 'frozenset' object has no attribute 'update'"
     ]
    }
   ],
   "source": [
    "#frozenset tidak memiliki metode update()\n",
    "fs= frozenset ([1, 2, 3])\n",
    "print(fs)\n",
    "fs.update(4, 5)"
   ]
  },
  {
   "cell_type": "code",
   "execution_count": 9,
   "id": "72aa724e-22c5-4015-8802-9b913795edfa",
   "metadata": {},
   "outputs": [
    {
     "name": "stdout",
     "output_type": "stream",
     "text": [
      "frozenset({1, 2, 3})\n"
     ]
    },
    {
     "ename": "AttributeError",
     "evalue": "'frozenset' object has no attribute 'remove'",
     "output_type": "error",
     "traceback": [
      "\u001b[1;31m---------------------------------------------------------------------------\u001b[0m",
      "\u001b[1;31mAttributeError\u001b[0m                            Traceback (most recent call last)",
      "Cell \u001b[1;32mIn[9], line 4\u001b[0m\n\u001b[0;32m      2\u001b[0m fs\u001b[38;5;241m=\u001b[39m \u001b[38;5;28mfrozenset\u001b[39m ([\u001b[38;5;241m1\u001b[39m, \u001b[38;5;241m2\u001b[39m, \u001b[38;5;241m3\u001b[39m])\n\u001b[0;32m      3\u001b[0m \u001b[38;5;28mprint\u001b[39m(fs)\n\u001b[1;32m----> 4\u001b[0m fs\u001b[38;5;241m.\u001b[39mremove(\u001b[38;5;241m3\u001b[39m)\n",
      "\u001b[1;31mAttributeError\u001b[0m: 'frozenset' object has no attribute 'remove'"
     ]
    }
   ],
   "source": [
    "#frozenset tidak memiliki metode remove()\n",
    "fs= frozenset ([1, 2, 3])\n",
    "print(fs)\n",
    "fs.remove(3)"
   ]
  },
  {
   "cell_type": "code",
   "execution_count": 10,
   "id": "aa454c6b-e9e3-4b44-a601-26a609c70f5b",
   "metadata": {},
   "outputs": [
    {
     "name": "stdout",
     "output_type": "stream",
     "text": [
      "frozenset({1, 2, 3})\n"
     ]
    },
    {
     "ename": "AttributeError",
     "evalue": "'frozenset' object has no attribute 'clear'",
     "output_type": "error",
     "traceback": [
      "\u001b[1;31m---------------------------------------------------------------------------\u001b[0m",
      "\u001b[1;31mAttributeError\u001b[0m                            Traceback (most recent call last)",
      "Cell \u001b[1;32mIn[10], line 4\u001b[0m\n\u001b[0;32m      2\u001b[0m fs\u001b[38;5;241m=\u001b[39m \u001b[38;5;28mfrozenset\u001b[39m ([\u001b[38;5;241m1\u001b[39m, \u001b[38;5;241m2\u001b[39m, \u001b[38;5;241m3\u001b[39m])\n\u001b[0;32m      3\u001b[0m \u001b[38;5;28mprint\u001b[39m(fs)\n\u001b[1;32m----> 4\u001b[0m fs\u001b[38;5;241m.\u001b[39mclear()\n",
      "\u001b[1;31mAttributeError\u001b[0m: 'frozenset' object has no attribute 'clear'"
     ]
    }
   ],
   "source": [
    "#frozenset tidak memiliki metode clear()\n",
    "fs= frozenset ([1, 2, 3])\n",
    "print(fs)\n",
    "fs.clear()"
   ]
  },
  {
   "cell_type": "code",
   "execution_count": 11,
   "id": "32d9ba53-1f0a-46cf-b913-3d96df77951a",
   "metadata": {},
   "outputs": [
    {
     "name": "stdout",
     "output_type": "stream",
     "text": [
      "Pemrograman Python 3\n"
     ]
    }
   ],
   "source": [
    "#contoh :\n",
    "versi = 3\n",
    "str = 'Pemrograman Python'\n",
    "\n",
    "if versi == 3:\n",
    "    print(str + ' 3')\n",
    "else:\n",
    "    print(str)"
   ]
  },
  {
   "cell_type": "code",
   "execution_count": 12,
   "id": "dd493891-8a8a-47c0-af6b-fe617c5cd3b0",
   "metadata": {},
   "outputs": [
    {
     "name": "stdout",
     "output_type": "stream",
     "text": [
      "Bahasa\t\t: Python 3\n",
      "Versi Python \t:3.13.5 | packaged by Anaconda, Inc. | (main, Jun 12 2025, 16:37:03) [MSC v.1929 64 bit (AMD64)]\n"
     ]
    }
   ],
   "source": [
    "#contoh \n",
    "import sys\n",
    "versi = sys.version\n",
    "if versi [:1] == '3':\n",
    "    print('Bahasa\\t\\t: Python 3')\n",
    "    print('Versi Python \\t:' +versi[:])"
   ]
  },
  {
   "cell_type": "code",
   "execution_count": 13,
   "id": "d2efd0ad-858f-4f6f-a577-3118b5c0fee3",
   "metadata": {},
   "outputs": [
    {
     "name": "stdin",
     "output_type": "stream",
     "text": [
      "Masukkan bilangan pertama\t: 122\n",
      "Masukkan bilangan kedua \t: 34\n",
      "Masukkan operator(+,-,*,/)\t: *\n"
     ]
    },
    {
     "name": "stdout",
     "output_type": "stream",
     "text": [
      "122.00 * 34.00 = 4148.00\n"
     ]
    }
   ],
   "source": [
    "#Contoh kode python\n",
    "def main():\n",
    "    x = float (input('Masukkan bilangan pertama\\t:'))\n",
    "    y = float(input ('Masukkan bilangan kedua \\t:'))\n",
    "    op = input('Masukkan operator(+,-,*,/)\\t:')\n",
    "    if op == '+':\n",
    "        print('%.2f + %.2f = %.2f' % (x, y, x+y))\n",
    "    elif op == '-':\n",
    "        print('%.2f - %.2f = %.2f' % (x,y, x-y))\n",
    "    elif op == '*':\n",
    "        print( '%.2f * %.2f = %.2f' % (x,y, x*y))\n",
    "    elif op == '/':\n",
    "        print( '%.2f / %.2f = %.2f' % (x,y, x/y))\n",
    "    else:\n",
    "        print('ERROR: Gunakan operator +,-,*,/')\n",
    "if __name__ =='__main__':\n",
    "    main()"
   ]
  },
  {
   "cell_type": "code",
   "execution_count": 14,
   "id": "16f00575-6493-4a0e-8f9f-916c09063d72",
   "metadata": {},
   "outputs": [
    {
     "name": "stdout",
     "output_type": "stream",
     "text": [
      "Python"
     ]
    }
   ],
   "source": [
    "#contoh Program\n",
    "a = 'Python'\n",
    "#menelusuri semua karakter dalam string: a\n",
    "for c in a:\n",
    "    print(c, end='')"
   ]
  },
  {
   "cell_type": "code",
   "execution_count": 15,
   "id": "294ab5ca-d421-4d3a-af95-82846a5a7cf9",
   "metadata": {},
   "outputs": [
    {
     "name": "stdout",
     "output_type": "stream",
     "text": [
      "Python\n",
      "Ruby\n",
      "Perl\n",
      "PHP\n"
     ]
    }
   ],
   "source": [
    "#Contoh Program\n",
    "b = [ 'Python', 'Ruby', 'Perl', 'PHP']\n",
    "#menelusuri semua karakter list: a\n",
    "for e in b:\n",
    "    print(e)"
   ]
  },
  {
   "cell_type": "code",
   "execution_count": 16,
   "id": "732f773b-426f-414d-9a71-c436d438bbf1",
   "metadata": {},
   "outputs": [
    {
     "name": "stdout",
     "output_type": "stream",
     "text": [
      "Arti 'one' adalah 'satu'\n",
      "Arti 'two' adalah 'dua'\n",
      "Arti 'Three' adalah 'Tiga'\n"
     ]
    }
   ],
   "source": [
    "#contohProgram\n",
    "c = {'one': 'satu','two':'dua', 'Three':'Tiga'}\n",
    "#menelusuri semua elemen di dalam dictionary: c\n",
    "for key in c:\n",
    "    print(\"Arti '%s' adalah '%s'\" %(key, c[key]))"
   ]
  },
  {
   "cell_type": "code",
   "execution_count": 17,
   "id": "776c083d-dab8-4288-8f3b-97bc4b0ef889",
   "metadata": {},
   "outputs": [
    {
     "name": "stdout",
     "output_type": "stream",
     "text": [
      "012345"
     ]
    }
   ],
   "source": [
    "#contoh\n",
    "for i in range (6):\n",
    "    print(i, end='')"
   ]
  },
  {
   "cell_type": "code",
   "execution_count": 18,
   "id": "155072bf-860a-4199-90ce-a1245a5ee94d",
   "metadata": {},
   "outputs": [
    {
     "name": "stdout",
     "output_type": "stream",
     "text": [
      "10 12 14 16 18 20 "
     ]
    }
   ],
   "source": [
    "#contoh\n",
    "for i in range (10,22,2):\n",
    "    print(\"%d \" % i, end='')"
   ]
  },
  {
   "cell_type": "code",
   "execution_count": null,
   "id": "fd070307-1182-48e8-ac34-e467456c27e6",
   "metadata": {},
   "outputs": [],
   "source": []
  }
 ],
 "metadata": {
  "kernelspec": {
   "display_name": "Python 3 (ipykernel)",
   "language": "python",
   "name": "python3"
  },
  "language_info": {
   "codemirror_mode": {
    "name": "ipython",
    "version": 3
   },
   "file_extension": ".py",
   "mimetype": "text/x-python",
   "name": "python",
   "nbconvert_exporter": "python",
   "pygments_lexer": "ipython3",
   "version": "3.13.5"
  }
 },
 "nbformat": 4,
 "nbformat_minor": 5
}
